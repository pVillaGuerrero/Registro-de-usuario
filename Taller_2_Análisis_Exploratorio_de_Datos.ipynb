{
  "cells": [
    {
      "cell_type": "markdown",
      "metadata": {
        "id": "view-in-github",
        "colab_type": "text"
      },
      "source": [
        "<a href=\"https://colab.research.google.com/github/pVillaGuerrero/Registro-de-usuario/blob/main/Taller_2_An%C3%A1lisis_Exploratorio_de_Datos.ipynb\" target=\"_parent\"><img src=\"https://colab.research.google.com/assets/colab-badge.svg\" alt=\"Open In Colab\"/></a>"
      ]
    },
    {
      "cell_type": "markdown",
      "id": "876a1fc1",
      "metadata": {
        "id": "876a1fc1"
      },
      "source": [
        "# Taller 2: \"Análisis Exploratorio de Datos\" \n",
        "\n",
        "<span style=\"color: blue\">***4tas Jornadas de Ingeniería Estadística UBB***</span>\n",
        "    \n",
        "<span style=\"color: blue\">***Curso de Python para la Ciencia de Datos***</span>\n",
        "\n",
        "Profesor: **Rodrigo Salas, Dr. Ing.**  <a href=\"mailto:rodrigo.salas@uv.cl\">(e-mail)</a>\n",
        "\n",
        "Universidad de Valparaíso\n",
        "\n",
        "Instituto Milenio de Intelligent Healthcare Engineering **iHEALTH**\n"
      ]
    },
    {
      "cell_type": "markdown",
      "id": "85222fa0",
      "metadata": {
        "id": "85222fa0"
      },
      "source": [
        "### Table of Contents:\n",
        "\n",
        "* [1. Análisis de datos con PANDAS](#pandas)\n",
        "* [2. Visualización de datos con SEABORN](#seaborn)\n",
        "* [3. Análisis de Clustering con SCIKIT-LEARN](#scikit)\n",
        "\n"
      ]
    },
    {
      "cell_type": "markdown",
      "id": "c60fc086",
      "metadata": {
        "id": "c60fc086"
      },
      "source": [
        "### 1. Data Analysis with PANDAS <a class=\"anchor\" id=\"pandas\"></a>"
      ]
    },
    {
      "cell_type": "markdown",
      "id": "4fccf3d9",
      "metadata": {
        "id": "4fccf3d9"
      },
      "source": [
        "**Importación de las bibliotecas requeridas**"
      ]
    },
    {
      "cell_type": "code",
      "execution_count": null,
      "id": "93b6aa8d",
      "metadata": {
        "id": "93b6aa8d"
      },
      "outputs": [],
      "source": [
        "import numpy as np\n",
        "import pandas as pd"
      ]
    },
    {
      "cell_type": "markdown",
      "id": "bd7cbdbc",
      "metadata": {
        "id": "bd7cbdbc"
      },
      "source": [
        "**Creación del DataFrame**"
      ]
    },
    {
      "cell_type": "code",
      "execution_count": null,
      "id": "a9db727f",
      "metadata": {
        "id": "a9db727f"
      },
      "outputs": [],
      "source": [
        "d = {'col1': [1, 2], 'col2': [3, 4]}"
      ]
    },
    {
      "cell_type": "code",
      "execution_count": null,
      "id": "eed430fe",
      "metadata": {
        "id": "eed430fe"
      },
      "outputs": [],
      "source": [
        "df1 = pd.DataFrame(data=d)\n",
        "df1"
      ]
    },
    {
      "cell_type": "code",
      "execution_count": null,
      "id": "218b3007",
      "metadata": {
        "id": "218b3007"
      },
      "outputs": [],
      "source": [
        "df2 = pd.DataFrame(np.array([[1, 2, 3], [4, 5, 6], [7, 8, 9]]), columns=['a', 'b', 'c'])\n",
        "df2"
      ]
    },
    {
      "cell_type": "code",
      "execution_count": null,
      "id": "3ae5293e",
      "metadata": {
        "id": "3ae5293e"
      },
      "outputs": [],
      "source": [
        "df3 = pd.DataFrame(data=d, index=[7,8])\n",
        "df3"
      ]
    },
    {
      "cell_type": "code",
      "execution_count": null,
      "id": "5b32d04a",
      "metadata": {
        "id": "5b32d04a"
      },
      "outputs": [],
      "source": [
        "df1.info()"
      ]
    },
    {
      "cell_type": "markdown",
      "id": "909648a0",
      "metadata": {
        "id": "909648a0"
      },
      "source": [
        "**Acceso a los datos**"
      ]
    },
    {
      "cell_type": "code",
      "execution_count": null,
      "id": "e96c6e33",
      "metadata": {
        "id": "e96c6e33"
      },
      "outputs": [],
      "source": [
        "df = pd.DataFrame({'x': [1, 2, 3], 'y': [3, 4, 5]}, index = [3, 7, 12])"
      ]
    },
    {
      "cell_type": "code",
      "execution_count": null,
      "id": "30b6b2c2",
      "metadata": {
        "id": "30b6b2c2"
      },
      "outputs": [],
      "source": [
        "df.at[7,'y']"
      ]
    },
    {
      "cell_type": "code",
      "execution_count": null,
      "id": "7894a3f4",
      "metadata": {
        "id": "7894a3f4"
      },
      "outputs": [],
      "source": [
        "df.x"
      ]
    },
    {
      "cell_type": "code",
      "execution_count": null,
      "id": "ac3d1137",
      "metadata": {
        "id": "ac3d1137"
      },
      "outputs": [],
      "source": [
        "df['x']"
      ]
    },
    {
      "cell_type": "code",
      "execution_count": null,
      "id": "8c0074b8",
      "metadata": {
        "id": "8c0074b8"
      },
      "outputs": [],
      "source": [
        "df.loc[7]"
      ]
    },
    {
      "cell_type": "code",
      "execution_count": null,
      "id": "dd29fdcc",
      "metadata": {
        "id": "dd29fdcc"
      },
      "outputs": [],
      "source": [
        "df.iloc[1]"
      ]
    },
    {
      "cell_type": "code",
      "execution_count": null,
      "id": "121ad27c",
      "metadata": {
        "id": "121ad27c"
      },
      "outputs": [],
      "source": [
        "df.values"
      ]
    },
    {
      "cell_type": "code",
      "execution_count": null,
      "id": "8a2ce564",
      "metadata": {
        "id": "8a2ce564"
      },
      "outputs": [],
      "source": [
        "df.index"
      ]
    },
    {
      "cell_type": "code",
      "execution_count": null,
      "id": "297bf051",
      "metadata": {
        "id": "297bf051"
      },
      "outputs": [],
      "source": [
        "df.columns"
      ]
    },
    {
      "cell_type": "code",
      "execution_count": null,
      "id": "a4815eb9",
      "metadata": {
        "id": "a4815eb9"
      },
      "outputs": [],
      "source": [
        "df.shape"
      ]
    },
    {
      "cell_type": "code",
      "execution_count": null,
      "id": "822ad99a",
      "metadata": {
        "id": "822ad99a"
      },
      "outputs": [],
      "source": [
        "df.size"
      ]
    },
    {
      "cell_type": "code",
      "execution_count": null,
      "id": "62e4a23e",
      "metadata": {
        "id": "62e4a23e"
      },
      "outputs": [],
      "source": [
        "df.head()"
      ]
    },
    {
      "cell_type": "code",
      "execution_count": null,
      "id": "68837a1a",
      "metadata": {
        "id": "68837a1a"
      },
      "outputs": [],
      "source": [
        "df.tail()"
      ]
    },
    {
      "cell_type": "markdown",
      "id": "38384b00",
      "metadata": {
        "id": "38384b00"
      },
      "source": [
        "**Métricas y resúmenes estadísticos**"
      ]
    },
    {
      "cell_type": "code",
      "execution_count": null,
      "id": "a20f230f",
      "metadata": {
        "id": "a20f230f"
      },
      "outputs": [],
      "source": [
        "d = np.random.rand(10,3)*10  #random data generation"
      ]
    },
    {
      "cell_type": "code",
      "execution_count": null,
      "id": "ca28ba8c",
      "metadata": {
        "id": "ca28ba8c"
      },
      "outputs": [],
      "source": [
        "df = pd.DataFrame(data=d, columns=['A','B','C'])\n",
        "df.describe()"
      ]
    },
    {
      "cell_type": "markdown",
      "id": "27c973d3",
      "metadata": {
        "id": "27c973d3"
      },
      "source": [
        "Número de muestras por columnas"
      ]
    },
    {
      "cell_type": "code",
      "execution_count": null,
      "id": "1a18e7e9",
      "metadata": {
        "id": "1a18e7e9"
      },
      "outputs": [],
      "source": [
        "df.count()"
      ]
    },
    {
      "cell_type": "markdown",
      "id": "8156c4f1",
      "metadata": {
        "id": "8156c4f1"
      },
      "source": [
        "Sum realiza la suma de los valores de cada columna\n",
        "\n",
        "$$Sum = \\frac{1}{n}\\sum_{i=1}^n x_i$$"
      ]
    },
    {
      "cell_type": "code",
      "execution_count": null,
      "id": "726b0e11",
      "metadata": {
        "id": "726b0e11"
      },
      "outputs": [],
      "source": [
        "df.sum()"
      ]
    },
    {
      "cell_type": "markdown",
      "id": "8b159b33",
      "metadata": {
        "id": "8b159b33"
      },
      "source": [
        "Mean es el promedio de los valores de los datos\n",
        "\n",
        "$$\\overline{X} = \\frac{1}{n}\\sum_{i=1}^n x_i$$"
      ]
    },
    {
      "cell_type": "code",
      "execution_count": null,
      "id": "93c769c4",
      "metadata": {
        "id": "93c769c4"
      },
      "outputs": [],
      "source": [
        "df.mean()"
      ]
    },
    {
      "cell_type": "markdown",
      "id": "0a3aa532",
      "metadata": {
        "id": "0a3aa532"
      },
      "source": [
        "La mediana es el valor que separa el conjunto de datos en dos mitadas.\n",
        "\n",
        "$$median = \\frac{1}{2} \\left(x_{(trunc(n/2))} + x_{(trunc(n/2) +1)}\\right)$$"
      ]
    },
    {
      "cell_type": "code",
      "execution_count": null,
      "id": "9eb56cf0",
      "metadata": {
        "id": "9eb56cf0"
      },
      "outputs": [],
      "source": [
        "df.median()"
      ]
    },
    {
      "cell_type": "markdown",
      "id": "cb76a577",
      "metadata": {
        "id": "cb76a577"
      },
      "source": [
        "Los cuantiles corresponden a puntos de cortes que se separa la distribución de probabilidad en con intervalos según la probabilidad definida.\n",
        "\n",
        "<img src=\"median-quartiles.png\" alt=\"Quartile\" style=\"height: 7cm\"/>"
      ]
    },
    {
      "cell_type": "code",
      "execution_count": null,
      "id": "8b385309",
      "metadata": {
        "id": "8b385309"
      },
      "outputs": [],
      "source": [
        "df.quantile(0.25)"
      ]
    },
    {
      "cell_type": "markdown",
      "id": "15048765",
      "metadata": {
        "id": "15048765"
      },
      "source": [
        "The variance is a measure of variability:\n",
        "\n",
        "$$Variance = \\frac{1}{n-1}\\sum_{i=1}^n(x_i-\\overline{X})^2$$\n",
        "    "
      ]
    },
    {
      "cell_type": "code",
      "execution_count": null,
      "id": "09d41d33",
      "metadata": {
        "id": "09d41d33"
      },
      "outputs": [],
      "source": [
        "df.var()"
      ]
    },
    {
      "cell_type": "markdown",
      "id": "a6eb60b4",
      "metadata": {
        "id": "a6eb60b4"
      },
      "source": [
        "The standard deviation is a measure of data variability around mean of a sample of population\n",
        "\n",
        "$$S_X = \\sqrt{Variance}$$"
      ]
    },
    {
      "cell_type": "code",
      "execution_count": null,
      "id": "3cbabc33",
      "metadata": {
        "id": "3cbabc33"
      },
      "outputs": [],
      "source": [
        "df.std()"
      ]
    },
    {
      "cell_type": "markdown",
      "id": "2488c821",
      "metadata": {
        "id": "2488c821"
      },
      "source": [
        "The SEM is a measure of precision for an estimated population mean\n",
        "\n",
        "$$SEM=\\frac{S_X}{\\sqrt{n}}$$"
      ]
    },
    {
      "cell_type": "code",
      "execution_count": null,
      "id": "ccecc3ab",
      "metadata": {
        "id": "ccecc3ab"
      },
      "outputs": [],
      "source": [
        "df.sem()"
      ]
    },
    {
      "cell_type": "markdown",
      "id": "04805dc1",
      "metadata": {
        "id": "04805dc1"
      },
      "source": [
        "Median Aboslute Deviation (MAD) is a measure of variability\n",
        "\n",
        "$$MAD=median\\{|x_i-\\overline{X}|\\}$$"
      ]
    },
    {
      "cell_type": "code",
      "execution_count": null,
      "id": "94b1bef0",
      "metadata": {
        "id": "94b1bef0"
      },
      "outputs": [],
      "source": [
        "df.mad()"
      ]
    },
    {
      "cell_type": "markdown",
      "id": "ef92a1b1",
      "metadata": {
        "id": "ef92a1b1"
      },
      "source": [
        "Max is the data sample with the greatest value"
      ]
    },
    {
      "cell_type": "code",
      "execution_count": null,
      "id": "0bfd8843",
      "metadata": {
        "id": "0bfd8843"
      },
      "outputs": [],
      "source": [
        "df.max()"
      ]
    },
    {
      "cell_type": "markdown",
      "id": "4e4e0a0b",
      "metadata": {
        "id": "4e4e0a0b"
      },
      "source": [
        "Min is the data sample with the lowest value"
      ]
    },
    {
      "cell_type": "code",
      "execution_count": null,
      "id": "5b2ab94c",
      "metadata": {
        "id": "5b2ab94c"
      },
      "outputs": [],
      "source": [
        "df.min()"
      ]
    },
    {
      "cell_type": "markdown",
      "id": "5974d9a9",
      "metadata": {
        "id": "5974d9a9"
      },
      "source": [
        "Covariance:\n",
        "\n",
        "$$cov(X,Y) = \\sum_{i=1}^n \\sum_{j=1}^n (x_i - \\overline{X})(y_i - \\overline{Y})$$"
      ]
    },
    {
      "cell_type": "code",
      "execution_count": null,
      "id": "dee2b0fe",
      "metadata": {
        "id": "dee2b0fe"
      },
      "outputs": [],
      "source": [
        "df.cov()"
      ]
    },
    {
      "cell_type": "markdown",
      "id": "5c18e0a3",
      "metadata": {
        "id": "5c18e0a3"
      },
      "source": [
        "Pearson's Correlation Coefficient:\n",
        "\n",
        "$$\\rho = \\frac{cov(X,Y)}{S_X\\cdot S_Y}$$\n",
        "\n",
        "\n",
        "<img src=\"correlation.jpg\" alt=\"Correlation\" style=\"height: 5cm\"/>"
      ]
    },
    {
      "cell_type": "code",
      "execution_count": null,
      "id": "b0f1d977",
      "metadata": {
        "id": "b0f1d977"
      },
      "outputs": [],
      "source": [
        "df.corr()"
      ]
    },
    {
      "cell_type": "markdown",
      "id": "55296102",
      "metadata": {
        "id": "55296102"
      },
      "source": [
        "The skewness is a measure of the asymmetry of the probability distribution of a real-valued random variable about its mean. \n",
        "\n",
        "$$\\gamma = \\frac{\\frac{1}{n}\\sum_{i=1}^n(x_i-\\overline{X})^3}{S_X^3}$$\n",
        "\n",
        "- *Negative skew:* The left tail is longer (left-skewed distribution) $\\gamma<0$\n",
        "- *Positive skew:* The right tail is longer (right-skewed distribution) $\\gamma>0$\n",
        "- *Symmetrical* $\\gamma\\approx 0$\n",
        "\n",
        "<img src=\"skewness.png\" alt=\"Skewness\" style=\"height: 5cm\"/>"
      ]
    },
    {
      "cell_type": "code",
      "execution_count": null,
      "id": "861fee69",
      "metadata": {
        "id": "861fee69"
      },
      "outputs": [],
      "source": [
        "df.skew()"
      ]
    },
    {
      "cell_type": "markdown",
      "id": "fd98c232",
      "metadata": {
        "id": "fd98c232"
      },
      "source": [
        "Kurtosis is a measure of the \"tailedness\" of the probability distribution. Kurtosis describes the shape of a probability distribution.\n",
        "\n",
        "$$\\kappa = \\frac{\\frac{1}{n}\\sum_{i=1}^n(x_i-\\overline{X})^4}{S_X^4} - 3$$\n",
        "\n",
        "- Leptokurtic $\\kappa>0$\n",
        "- Mesokurtic $\\kappa\\approx 0$\n",
        "- Platykurtic $\\kappa<0$\n",
        "\n",
        "<img src=\"kurtosis.jpg\" alt=\"Kurtosis\" style=\"height: 5cm\"/>"
      ]
    },
    {
      "cell_type": "code",
      "execution_count": null,
      "id": "5dcb5987",
      "metadata": {
        "id": "5dcb5987"
      },
      "outputs": [],
      "source": [
        "df.kurt()"
      ]
    },
    {
      "cell_type": "markdown",
      "id": "6ca7ad6f",
      "metadata": {
        "id": "6ca7ad6f"
      },
      "source": [
        "**Handling Missing Values**"
      ]
    },
    {
      "cell_type": "code",
      "execution_count": null,
      "id": "df3e7beb",
      "metadata": {
        "id": "df3e7beb"
      },
      "outputs": [],
      "source": [
        "df = pd.DataFrame({'Name': ['B', 'D', 'A', 'X', None], \n",
        "                   'Age': [20, np.nan, 30, 55, 17], \n",
        "                   'Weight': [60, 76, np.nan, np.nan, 65]})\n",
        "df"
      ]
    },
    {
      "cell_type": "markdown",
      "id": "8079062b",
      "metadata": {
        "id": "8079062b"
      },
      "source": [
        "Finding missing values"
      ]
    },
    {
      "cell_type": "code",
      "execution_count": null,
      "id": "97db5224",
      "metadata": {
        "id": "97db5224"
      },
      "outputs": [],
      "source": [
        "df.isna() # df.isnull()"
      ]
    },
    {
      "cell_type": "code",
      "execution_count": null,
      "id": "2ea643c8",
      "metadata": {
        "id": "2ea643c8"
      },
      "outputs": [],
      "source": [
        "df.isna().sum() # Total of missing values "
      ]
    },
    {
      "cell_type": "markdown",
      "id": "e479c5c9",
      "metadata": {
        "id": "e479c5c9"
      },
      "source": [
        "Drop missing values"
      ]
    },
    {
      "cell_type": "code",
      "execution_count": null,
      "id": "36d1e6ef",
      "metadata": {
        "id": "36d1e6ef"
      },
      "outputs": [],
      "source": [
        "df2 = df.dropna()\n",
        "df2"
      ]
    },
    {
      "cell_type": "markdown",
      "id": "f8b3755a",
      "metadata": {
        "id": "f8b3755a"
      },
      "source": [
        "Data Imputing"
      ]
    },
    {
      "cell_type": "code",
      "execution_count": null,
      "id": "e3a07add",
      "metadata": {
        "id": "e3a07add"
      },
      "outputs": [],
      "source": [
        "df.at[4,'Name']='NN'\n",
        "df"
      ]
    },
    {
      "cell_type": "code",
      "execution_count": null,
      "id": "247b4466",
      "metadata": {
        "id": "247b4466"
      },
      "outputs": [],
      "source": [
        "mean = df.mean()\n",
        "print(mean)\n",
        "df2 = df.fillna(mean)\n",
        "df2"
      ]
    },
    {
      "cell_type": "code",
      "execution_count": null,
      "id": "d7e8a4b7",
      "metadata": {
        "id": "d7e8a4b7"
      },
      "outputs": [],
      "source": [
        "df3 = df.fillna(axis=0, method=\"ffill\")\n",
        "df3"
      ]
    },
    {
      "cell_type": "code",
      "execution_count": null,
      "id": "a87fe4bd",
      "metadata": {
        "id": "a87fe4bd"
      },
      "outputs": [],
      "source": [
        "df4 = df.interpolate(axis=0)\n",
        "df4"
      ]
    },
    {
      "cell_type": "markdown",
      "id": "b112dbc4",
      "metadata": {
        "id": "b112dbc4"
      },
      "source": [
        "**Data Query**"
      ]
    },
    {
      "cell_type": "code",
      "execution_count": null,
      "id": "561fea56",
      "metadata": {
        "id": "561fea56"
      },
      "outputs": [],
      "source": [
        "df2[df2['Age']>30]"
      ]
    },
    {
      "cell_type": "code",
      "execution_count": null,
      "id": "21905045",
      "metadata": {
        "id": "21905045"
      },
      "outputs": [],
      "source": [
        "df2.query('Age>30')"
      ]
    },
    {
      "cell_type": "code",
      "execution_count": null,
      "id": "4a151b7f",
      "metadata": {
        "id": "4a151b7f"
      },
      "outputs": [],
      "source": [
        "df2.filter(items=['Name','Weight'])"
      ]
    },
    {
      "cell_type": "markdown",
      "id": "191f3741",
      "metadata": {
        "id": "191f3741"
      },
      "source": [
        "**Combining DataFrames**"
      ]
    },
    {
      "cell_type": "code",
      "execution_count": null,
      "id": "7c82e610",
      "metadata": {
        "id": "7c82e610"
      },
      "outputs": [],
      "source": [
        "df1 = pd.DataFrame({'employee': ['Bob', 'Jake', 'Lisa', 'Sue'],\n",
        "                    'group': ['Accounting', 'Engineering', 'Engineering', 'HR']})\n",
        "df1"
      ]
    },
    {
      "cell_type": "code",
      "execution_count": null,
      "id": "62ad5024",
      "metadata": {
        "id": "62ad5024"
      },
      "outputs": [],
      "source": [
        "df2 = pd.DataFrame({'employee': ['Lisa', 'Bob', 'Jake', 'Sue'],\n",
        "                    'hire_date': [2004, 2008, 2012, 2014]})\n",
        "df2"
      ]
    },
    {
      "cell_type": "markdown",
      "id": "2af4243b",
      "metadata": {
        "id": "2af4243b"
      },
      "source": [
        "One-to-one join"
      ]
    },
    {
      "cell_type": "code",
      "execution_count": null,
      "id": "fc126f01",
      "metadata": {
        "id": "fc126f01"
      },
      "outputs": [],
      "source": [
        "df3 = pd.merge(df1, df2)\n",
        "df3"
      ]
    },
    {
      "cell_type": "markdown",
      "id": "8885cad3",
      "metadata": {
        "id": "8885cad3"
      },
      "source": [
        "Many-to-one join"
      ]
    },
    {
      "cell_type": "code",
      "execution_count": null,
      "id": "e5a46036",
      "metadata": {
        "id": "e5a46036"
      },
      "outputs": [],
      "source": [
        "df4 = pd.DataFrame({'group': ['Accounting', 'Engineering', 'HR'],\n",
        "                    'supervisor': ['Carly', 'Guido', 'Steve']})\n",
        "df4"
      ]
    },
    {
      "cell_type": "code",
      "execution_count": null,
      "id": "2445169f",
      "metadata": {
        "id": "2445169f"
      },
      "outputs": [],
      "source": [
        "pd.merge(df3, df4)"
      ]
    },
    {
      "cell_type": "code",
      "execution_count": null,
      "id": "df0a98d0",
      "metadata": {
        "id": "df0a98d0"
      },
      "outputs": [],
      "source": [
        "df5 = pd.DataFrame({'name': ['Bob', 'Jake', 'Sue'],\n",
        "                    'salary': [70000, 80000, 90000]})\n",
        "df5"
      ]
    },
    {
      "cell_type": "code",
      "execution_count": null,
      "id": "5b1488cd",
      "metadata": {
        "id": "5b1488cd"
      },
      "outputs": [],
      "source": [
        "df6 = pd.merge(df1, df5, left_on=\"employee\", right_on=\"name\", how='inner')\n",
        "df6"
      ]
    },
    {
      "cell_type": "markdown",
      "id": "fbd691ef",
      "metadata": {
        "id": "fbd691ef"
      },
      "source": [
        "Inner join:"
      ]
    },
    {
      "cell_type": "code",
      "execution_count": null,
      "id": "f8fc4b2d",
      "metadata": {
        "id": "f8fc4b2d"
      },
      "outputs": [],
      "source": [
        "df7 = pd.merge(df1, df5, left_on=\"employee\", right_on=\"name\", how='outer')\n",
        "df7"
      ]
    },
    {
      "cell_type": "markdown",
      "id": "2a6b63c9",
      "metadata": {
        "id": "2a6b63c9"
      },
      "source": [
        "**GroupBy**"
      ]
    },
    {
      "cell_type": "code",
      "execution_count": null,
      "id": "013c19c4",
      "metadata": {
        "id": "013c19c4"
      },
      "outputs": [],
      "source": [
        "df7.groupby('group')['salary'].mean()"
      ]
    },
    {
      "cell_type": "markdown",
      "id": "a620f89e",
      "metadata": {
        "id": "a620f89e"
      },
      "source": [
        "**Operating with columns**"
      ]
    },
    {
      "cell_type": "code",
      "execution_count": null,
      "id": "d0abdd5a",
      "metadata": {
        "id": "d0abdd5a"
      },
      "outputs": [],
      "source": [
        "df = pd.DataFrame({'Name': ['Ana', 'Diana', 'John', 'Peter', 'Alex'],\n",
        "                   'Gender': ['female','female','male','male','male'],\n",
        "                   'Age': [20, 25 , 30, 55, 17], \n",
        "                   'Weight': [60, 76, 90, 87, 82],\n",
        "                   'Height': [1.65, 1.78, 1.85, 1.72, 1.79]})\n",
        "\n",
        "df"
      ]
    },
    {
      "cell_type": "code",
      "execution_count": null,
      "id": "5e50af58",
      "metadata": {
        "id": "5e50af58"
      },
      "outputs": [],
      "source": [
        "def bmi(w,h):\n",
        "    return w/h**2"
      ]
    },
    {
      "cell_type": "code",
      "execution_count": null,
      "id": "787fb564",
      "metadata": {
        "id": "787fb564"
      },
      "outputs": [],
      "source": [
        "df['BMI'] = df.apply(lambda x: bmi(x['Weight'], x['Height']), axis=1)\n",
        "df"
      ]
    },
    {
      "cell_type": "markdown",
      "id": "74564eb7",
      "metadata": {
        "id": "74564eb7"
      },
      "source": [
        "**Pivot Table**"
      ]
    },
    {
      "cell_type": "code",
      "execution_count": null,
      "id": "76d83e7f",
      "metadata": {
        "id": "76d83e7f"
      },
      "outputs": [],
      "source": [
        "df.pivot_table(index='Gender', values='BMI', aggfunc=['max', 'mean'])"
      ]
    },
    {
      "cell_type": "code",
      "execution_count": null,
      "id": "0de2126d",
      "metadata": {
        "id": "0de2126d"
      },
      "outputs": [],
      "source": [
        "df.groupby('Gender')['BMI'].max()"
      ]
    },
    {
      "cell_type": "markdown",
      "id": "288469e2",
      "metadata": {
        "id": "288469e2"
      },
      "source": [
        "**Guardando el DataFrame**"
      ]
    },
    {
      "cell_type": "code",
      "execution_count": null,
      "id": "2a68840e",
      "metadata": {
        "id": "2a68840e"
      },
      "outputs": [],
      "source": [
        "df.to_csv('datos.csv')"
      ]
    },
    {
      "cell_type": "code",
      "execution_count": null,
      "id": "49a1d613",
      "metadata": {
        "id": "49a1d613"
      },
      "outputs": [],
      "source": [
        "df.to_excel('datos.xlsx')"
      ]
    },
    {
      "cell_type": "markdown",
      "id": "cea75fd2",
      "metadata": {
        "id": "cea75fd2"
      },
      "source": [
        "**Gráficos**"
      ]
    },
    {
      "cell_type": "code",
      "execution_count": null,
      "id": "06d5c5dc",
      "metadata": {
        "id": "06d5c5dc"
      },
      "outputs": [],
      "source": [
        "df.plot(x='Height', y='Weight', kind='scatter')"
      ]
    },
    {
      "cell_type": "code",
      "execution_count": null,
      "id": "2f656a10",
      "metadata": {
        "id": "2f656a10"
      },
      "outputs": [],
      "source": [
        "df.boxplot()"
      ]
    },
    {
      "cell_type": "code",
      "execution_count": null,
      "id": "9b722d25",
      "metadata": {
        "id": "9b722d25"
      },
      "outputs": [],
      "source": [
        "df.hist()"
      ]
    },
    {
      "cell_type": "markdown",
      "id": "4c51f98f",
      "metadata": {
        "id": "4c51f98f"
      },
      "source": [
        "### 2. Data Visualization with SEABORN<a class=\"anchor\" id=\"seaborn\"></a>"
      ]
    },
    {
      "cell_type": "code",
      "execution_count": null,
      "id": "2f4b725b",
      "metadata": {
        "id": "2f4b725b"
      },
      "outputs": [],
      "source": [
        "import seaborn as sns"
      ]
    },
    {
      "cell_type": "code",
      "execution_count": null,
      "id": "1a10b1f9",
      "metadata": {
        "id": "1a10b1f9"
      },
      "outputs": [],
      "source": [
        "df = pd.read_csv(\"diabetes.csv\", sep=\",\", skip_blank_lines=False)"
      ]
    },
    {
      "cell_type": "code",
      "execution_count": null,
      "id": "3c9de257",
      "metadata": {
        "id": "3c9de257"
      },
      "outputs": [],
      "source": [
        "df.describe()"
      ]
    },
    {
      "cell_type": "code",
      "execution_count": null,
      "id": "3d5dac22",
      "metadata": {
        "id": "3d5dac22"
      },
      "outputs": [],
      "source": [
        "sns.pairplot(hue = 'Outcome', data=df)"
      ]
    },
    {
      "cell_type": "code",
      "execution_count": null,
      "id": "899c966a",
      "metadata": {
        "id": "899c966a"
      },
      "outputs": [],
      "source": [
        "sns.catplot(y='Insulin', x='Outcome', kind='violin', data=df)"
      ]
    },
    {
      "cell_type": "code",
      "execution_count": null,
      "id": "b26f18b1",
      "metadata": {
        "id": "b26f18b1"
      },
      "outputs": [],
      "source": [
        "sns.catplot(y='Insulin', x='Outcome', kind='boxen', data=df)"
      ]
    },
    {
      "cell_type": "code",
      "execution_count": null,
      "id": "05619dc5",
      "metadata": {
        "id": "05619dc5"
      },
      "outputs": [],
      "source": [
        "sns.catplot(y='Insulin', x='Outcome', kind='swarm', data=df)"
      ]
    },
    {
      "cell_type": "code",
      "execution_count": null,
      "id": "5948daa3",
      "metadata": {
        "id": "5948daa3"
      },
      "outputs": [],
      "source": [
        "sns.scatterplot(x='Insulin', y='Glucose', hue='Outcome', data=df)"
      ]
    },
    {
      "cell_type": "code",
      "execution_count": null,
      "id": "b768a551",
      "metadata": {
        "id": "b768a551"
      },
      "outputs": [],
      "source": [
        "sns.catplot(y='Insulin', x='Outcome', hue='Pregnancies', kind='box', data=df)"
      ]
    },
    {
      "cell_type": "markdown",
      "source": [
        "### 3. Análisis de Clustering "
      ],
      "metadata": {
        "id": "LQbwHm2BHNgp"
      },
      "id": "LQbwHm2BHNgp"
    },
    {
      "cell_type": "code",
      "source": [
        "from sklearn.datasets import make_blobs\n",
        "from sklearn.cluster import KMeans\n",
        "from sklearn.metrics import silhouette_samples, silhouette_score\n",
        "\n",
        "import matplotlib.pyplot as plt\n",
        "import matplotlib.cm as cm\n",
        "import numpy as np"
      ],
      "metadata": {
        "id": "NLS7AEIcHzOQ"
      },
      "id": "NLS7AEIcHzOQ",
      "execution_count": null,
      "outputs": []
    },
    {
      "cell_type": "markdown",
      "source": [
        "Generación de datos sintéticos"
      ],
      "metadata": {
        "id": "EksyOzc9H6oX"
      },
      "id": "EksyOzc9H6oX"
    },
    {
      "cell_type": "code",
      "source": [
        "X, y = make_blobs(n_samples=500,\n",
        "                  n_features=2,\n",
        "                  centers=4,\n",
        "                  cluster_std=1,\n",
        "                  center_box=(-10.0, 10.0),\n",
        "                  shuffle=True,\n",
        "                  random_state=1)  "
      ],
      "metadata": {
        "id": "GjArNV61IAXB"
      },
      "id": "GjArNV61IAXB",
      "execution_count": null,
      "outputs": []
    },
    {
      "cell_type": "code",
      "source": [
        "clusterer = KMeans(n_clusters=4, random_state=10)\n",
        "cluster_labels = clusterer.fit_predict(X)"
      ],
      "metadata": {
        "id": "MRcZbFlEJEJU"
      },
      "id": "MRcZbFlEJEJU",
      "execution_count": null,
      "outputs": []
    },
    {
      "cell_type": "code",
      "source": [
        "range_n_clusters = [2, 3, 4, 5, 6]\n",
        "\n",
        "for n_clusters in range_n_clusters:\n",
        "    # Create a subplot with 1 row and 2 columns\n",
        "    fig, (ax1, ax2) = plt.subplots(1, 2)\n",
        "    fig.set_size_inches(18, 7)\n",
        "\n",
        "    # The 1st subplot is the silhouette plot\n",
        "    # The silhouette coefficient can range from -1, 1 but in this example all\n",
        "    # lie within [-0.1, 1]\n",
        "    ax1.set_xlim([-0.1, 1])\n",
        "    # The (n_clusters+1)*10 is for inserting blank space between silhouette\n",
        "    # plots of individual clusters, to demarcate them clearly.\n",
        "    ax1.set_ylim([0, len(X) + (n_clusters + 1) * 10])\n",
        "\n",
        "    # Initialize the clusterer with n_clusters value and a random generator\n",
        "    # seed of 10 for reproducibility.\n",
        "    clusterer = KMeans(n_clusters=n_clusters, random_state=10)\n",
        "    cluster_labels = clusterer.fit_predict(X)\n",
        "\n",
        "    # The silhouette_score gives the average value for all the samples.\n",
        "    # This gives a perspective into the density and separation of the formed\n",
        "    # clusters\n",
        "    silhouette_avg = silhouette_score(X, cluster_labels)\n",
        "    print(\"For n_clusters =\", n_clusters,\n",
        "          \"The average silhouette_score is :\", silhouette_avg)\n",
        "\n",
        "    # Compute the silhouette scores for each sample\n",
        "    sample_silhouette_values = silhouette_samples(X, cluster_labels)\n",
        "\n",
        "    y_lower = 10\n",
        "    for i in range(n_clusters):\n",
        "        # Aggregate the silhouette scores for samples belonging to\n",
        "        # cluster i, and sort them\n",
        "        ith_cluster_silhouette_values = \\\n",
        "            sample_silhouette_values[cluster_labels == i]\n",
        "\n",
        "        ith_cluster_silhouette_values.sort()\n",
        "\n",
        "        size_cluster_i = ith_cluster_silhouette_values.shape[0]\n",
        "        y_upper = y_lower + size_cluster_i\n",
        "\n",
        "        color = cm.nipy_spectral(float(i) / n_clusters)\n",
        "        ax1.fill_betweenx(np.arange(y_lower, y_upper),\n",
        "                          0, ith_cluster_silhouette_values,\n",
        "                          facecolor=color, edgecolor=color, alpha=0.7)\n",
        "\n",
        "        # Label the silhouette plots with their cluster numbers at the middle\n",
        "        ax1.text(-0.05, y_lower + 0.5 * size_cluster_i, str(i))\n",
        "\n",
        "        # Compute the new y_lower for next plot\n",
        "        y_lower = y_upper + 10  # 10 for the 0 samples\n",
        "\n",
        "    ax1.set_title(\"The silhouette plot for the various clusters.\")\n",
        "    ax1.set_xlabel(\"The silhouette coefficient values\")\n",
        "    ax1.set_ylabel(\"Cluster label\")\n",
        "\n",
        "    # The vertical line for average silhouette score of all the values\n",
        "    ax1.axvline(x=silhouette_avg, color=\"red\", linestyle=\"--\")\n",
        "\n",
        "    ax1.set_yticks([])  # Clear the yaxis labels / ticks\n",
        "    ax1.set_xticks([-0.1, 0, 0.2, 0.4, 0.6, 0.8, 1])\n",
        "\n",
        "    # 2nd Plot showing the actual clusters formed\n",
        "    colors = cm.nipy_spectral(cluster_labels.astype(float) / n_clusters)\n",
        "    ax2.scatter(X[:, 0], X[:, 1], marker='.', s=30, lw=0, alpha=0.7,\n",
        "                c=colors, edgecolor='k')\n",
        "\n",
        "    # Labeling the clusters\n",
        "    centers = clusterer.cluster_centers_\n",
        "    # Draw white circles at cluster centers\n",
        "    ax2.scatter(centers[:, 0], centers[:, 1], marker='o',\n",
        "                c=\"white\", alpha=1, s=200, edgecolor='k')\n",
        "\n",
        "    for i, c in enumerate(centers):\n",
        "        ax2.scatter(c[0], c[1], marker='$%d$' % i, alpha=1,\n",
        "                    s=50, edgecolor='k')\n",
        "\n",
        "    ax2.set_title(\"The visualization of the clustered data.\")\n",
        "    ax2.set_xlabel(\"Feature space for the 1st feature\")\n",
        "    ax2.set_ylabel(\"Feature space for the 2nd feature\")\n",
        "\n",
        "    plt.suptitle((\"Silhouette analysis for KMeans clustering on sample data \"\n",
        "                  \"with n_clusters = %d\" % n_clusters),\n",
        "                 fontsize=14, fontweight='bold')\n"
      ],
      "metadata": {
        "id": "v6TI44jzHuO1"
      },
      "id": "v6TI44jzHuO1",
      "execution_count": null,
      "outputs": []
    },
    {
      "cell_type": "markdown",
      "id": "9ab4ca58",
      "metadata": {
        "id": "9ab4ca58"
      },
      "source": [
        "### Gracias por su atención\n",
        "\n",
        "Esto es todo por hoy.\n"
      ]
    },
    {
      "cell_type": "code",
      "source": [
        ""
      ],
      "metadata": {
        "id": "weLh3uIUCeW2"
      },
      "id": "weLh3uIUCeW2",
      "execution_count": null,
      "outputs": []
    }
  ],
  "metadata": {
    "kernelspec": {
      "display_name": "Python 3",
      "language": "python",
      "name": "python3"
    },
    "language_info": {
      "codemirror_mode": {
        "name": "ipython",
        "version": 3
      },
      "file_extension": ".py",
      "mimetype": "text/x-python",
      "name": "python",
      "nbconvert_exporter": "python",
      "pygments_lexer": "ipython3",
      "version": "3.8.10"
    },
    "colab": {
      "name": "Taller 2 - Análisis Exploratorio de Datos.ipynb",
      "provenance": [],
      "include_colab_link": true
    }
  },
  "nbformat": 4,
  "nbformat_minor": 5
}